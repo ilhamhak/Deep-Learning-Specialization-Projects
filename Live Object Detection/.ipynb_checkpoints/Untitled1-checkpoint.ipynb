{
 "cells": [
  {
   "cell_type": "code",
   "execution_count": null,
   "id": "856b06c8",
   "metadata": {},
   "outputs": [],
   "source": [
    "# Check if NVIDIA GPU is enabled\n",
    "!nvidia-smi"
   ]
  },
  {
   "cell_type": "code",
   "execution_count": 9,
   "id": "343174c4",
   "metadata": {},
   "outputs": [
    {
     "ename": "ModuleNotFoundError",
     "evalue": "No module named 'google.colab'",
     "output_type": "error",
     "traceback": [
      "\u001b[1;31m---------------------------------------------------------------------------\u001b[0m",
      "\u001b[1;31mModuleNotFoundError\u001b[0m                       Traceback (most recent call last)",
      "\u001b[1;32m<ipython-input-9-86f4cb41e909>\u001b[0m in \u001b[0;36m<module>\u001b[1;34m\u001b[0m\n\u001b[1;32m----> 1\u001b[1;33m \u001b[1;32mfrom\u001b[0m \u001b[0mgoogle\u001b[0m\u001b[1;33m.\u001b[0m\u001b[0mcolab\u001b[0m \u001b[1;32mimport\u001b[0m \u001b[0mdrive\u001b[0m\u001b[1;33m\u001b[0m\u001b[1;33m\u001b[0m\u001b[0m\n\u001b[0m\u001b[0;32m      2\u001b[0m \u001b[0mdrive\u001b[0m\u001b[1;33m.\u001b[0m\u001b[0mmount\u001b[0m\u001b[1;33m(\u001b[0m\u001b[1;34m'/content/gdrive'\u001b[0m\u001b[1;33m)\u001b[0m\u001b[1;33m\u001b[0m\u001b[1;33m\u001b[0m\u001b[0m\n\u001b[0;32m      3\u001b[0m \u001b[0mget_ipython\u001b[0m\u001b[1;33m(\u001b[0m\u001b[1;33m)\u001b[0m\u001b[1;33m.\u001b[0m\u001b[0msystem\u001b[0m\u001b[1;33m(\u001b[0m\u001b[1;34m'ln -s /content/gdrive/My\\\\ Drive/ /mydrive'\u001b[0m\u001b[1;33m)\u001b[0m\u001b[1;33m\u001b[0m\u001b[1;33m\u001b[0m\u001b[0m\n\u001b[0;32m      4\u001b[0m \u001b[0mget_ipython\u001b[0m\u001b[1;33m(\u001b[0m\u001b[1;33m)\u001b[0m\u001b[1;33m.\u001b[0m\u001b[0msystem\u001b[0m\u001b[1;33m(\u001b[0m\u001b[1;34m'ls /mydrive'\u001b[0m\u001b[1;33m)\u001b[0m\u001b[1;33m\u001b[0m\u001b[1;33m\u001b[0m\u001b[0m\n",
      "\u001b[1;31mModuleNotFoundError\u001b[0m: No module named 'google.colab'"
     ]
    }
   ],
   "source": [
    "from google.colab import drive\n",
    "drive.mount('/content/gdrive')\n",
    "!ln -s /content/gdrive/My\\ Drive/ /mydrive\n",
    "!ls /mydrive"
   ]
  },
  {
   "cell_type": "code",
   "execution_count": 10,
   "id": "323ec488",
   "metadata": {},
   "outputs": [
    {
     "name": "stderr",
     "output_type": "stream",
     "text": [
      "Cloning into 'darknet'...\n",
      "Updating files:  36% (756/2057)\n",
      "Updating files:  37% (762/2057)\n",
      "Updating files:  38% (782/2057)\n",
      "Updating files:  39% (803/2057)\n",
      "Updating files:  40% (823/2057)\n",
      "Updating files:  41% (844/2057)\n",
      "Updating files:  42% (864/2057)\n",
      "Updating files:  43% (885/2057)\n",
      "Updating files:  44% (906/2057)\n",
      "Updating files:  45% (926/2057)\n",
      "Updating files:  46% (947/2057)\n",
      "Updating files:  47% (967/2057)\n",
      "Updating files:  48% (988/2057)\n",
      "Updating files:  49% (1008/2057)\n",
      "Updating files:  50% (1029/2057)\n",
      "Updating files:  51% (1050/2057)\n",
      "Updating files:  52% (1070/2057)\n",
      "Updating files:  53% (1091/2057)\n",
      "Updating files:  54% (1111/2057)\n",
      "Updating files:  55% (1132/2057)\n",
      "Updating files:  56% (1152/2057)\n",
      "Updating files:  57% (1173/2057)\n",
      "Updating files:  58% (1194/2057)\n",
      "Updating files:  59% (1214/2057)\n",
      "Updating files:  60% (1235/2057)\n",
      "Updating files:  61% (1255/2057)\n",
      "Updating files:  62% (1276/2057)\n",
      "Updating files:  63% (1296/2057)\n",
      "Updating files:  64% (1317/2057)\n",
      "Updating files:  65% (1338/2057)\n",
      "Updating files:  66% (1358/2057)\n",
      "Updating files:  67% (1379/2057)\n",
      "Updating files:  68% (1399/2057)\n",
      "Updating files:  69% (1420/2057)\n",
      "Updating files:  70% (1440/2057)\n",
      "Updating files:  71% (1461/2057)\n",
      "Updating files:  72% (1482/2057)\n",
      "Updating files:  73% (1502/2057)\n",
      "Updating files:  74% (1523/2057)\n",
      "Updating files:  75% (1543/2057)\n",
      "Updating files:  76% (1564/2057)\n",
      "Updating files:  77% (1584/2057)\n",
      "Updating files:  78% (1605/2057)\n",
      "Updating files:  79% (1626/2057)\n",
      "Updating files:  80% (1646/2057)\n",
      "Updating files:  81% (1667/2057)\n",
      "Updating files:  82% (1687/2057)\n",
      "Updating files:  83% (1708/2057)\n",
      "Updating files:  84% (1728/2057)\n",
      "Updating files:  85% (1749/2057)\n",
      "Updating files:  86% (1770/2057)\n",
      "Updating files:  87% (1790/2057)\n",
      "Updating files:  88% (1811/2057)\n",
      "Updating files:  89% (1831/2057)\n",
      "Updating files:  90% (1852/2057)\n",
      "Updating files:  91% (1872/2057)\n",
      "Updating files:  92% (1893/2057)\n",
      "Updating files:  92% (1913/2057)\n",
      "Updating files:  93% (1914/2057)\n",
      "Updating files:  94% (1934/2057)\n",
      "Updating files:  95% (1955/2057)\n",
      "Updating files:  96% (1975/2057)\n",
      "Updating files:  97% (1996/2057)\n",
      "Updating files:  98% (2016/2057)\n",
      "Updating files:  99% (2037/2057)\n",
      "Updating files: 100% (2057/2057)\n",
      "Updating files: 100% (2057/2057), done.\n"
     ]
    }
   ],
   "source": [
    "# Clone\n",
    "!git clone https://github.com/AlexeyAB/darknet"
   ]
  },
  {
   "cell_type": "code",
   "execution_count": 11,
   "id": "777ab884",
   "metadata": {},
   "outputs": [
    {
     "name": "stdout",
     "output_type": "stream",
     "text": [
      "C:\\Users\\zakki\\Projects\\Live Object Detection\\darknet\n"
     ]
    },
    {
     "name": "stderr",
     "output_type": "stream",
     "text": [
      "'sed' is not recognized as an internal or external command,\n",
      "operable program or batch file.\n",
      "'sed' is not recognized as an internal or external command,\n",
      "operable program or batch file.\n",
      "'sed' is not recognized as an internal or external command,\n",
      "operable program or batch file.\n"
     ]
    }
   ],
   "source": [
    "# Configure\n",
    "%cd darknet\n",
    "!sed -i 's/OPENCV=0/OPENCV=1/' Makefile\n",
    "!sed -i 's/GPU=0/GPU=1/' Makefile\n",
    "!sed -i 's/CUDNN=0/CUDNN=1/' Makefile"
   ]
  },
  {
   "cell_type": "code",
   "execution_count": 12,
   "id": "d2743398",
   "metadata": {},
   "outputs": [
    {
     "name": "stderr",
     "output_type": "stream",
     "text": [
      "'make' is not recognized as an internal or external command,\n",
      "operable program or batch file.\n"
     ]
    }
   ],
   "source": [
    "# Compile\n",
    "!make"
   ]
  },
  {
   "cell_type": "code",
   "execution_count": null,
   "id": "88a72457",
   "metadata": {},
   "outputs": [],
   "source": [
    "# Make a copy of yolov3.cfg\n",
    "!cp cfg/yolov3.cfg cfg/yolov3_training.cfg"
   ]
  },
  {
   "cell_type": "code",
   "execution_count": null,
   "id": "9d742449",
   "metadata": {},
   "outputs": [],
   "source": [
    "# Change lines in yolov3.cfg file\n",
    "!sed -i 's/batch=1/batch=64/' cfg/yolov3_training.cfg\n",
    "!sed -i 's/subdivisions=1/subdivisions=16/' cfg/yolov3_training.cfg\n",
    "!sed -i 's/max_batches = 500200/max_batches = 6000/' cfg/yolov3_training.cfg\n",
    "!sed -i '610 s@classes=80@classes=3@' cfg/yolov3_training.cfg\n",
    "!sed -i '696 s@classes=80@classes=3@' cfg/yolov3_training.cfg\n",
    "!sed -i '783 s@classes=80@classes=3@' cfg/yolov3_training.cfg\n",
    "!sed -i '603 s@filters=255@filters=24@' cfg/yolov3_training.cfg\n",
    "!sed -i '689 s@filters=255@filters=24@' cfg/yolov3_training.cfg\n",
    "!sed -i '776 s@filters=255@filters=24@' cfg/yolov3_training.cfg"
   ]
  },
  {
   "cell_type": "code",
   "execution_count": null,
   "id": "4d25d649",
   "metadata": {},
   "outputs": [],
   "source": [
    "!echo -e 'Wearing Mask\\n2nd item\\n3rd item' > data/obj.names\n",
    "!echo -e 'classes= 3\\ntrain  = data/train.txt\\nvalid  = data/test.txt\\nnames = data/obj.names\\nbackup = /mydrive/"
   ]
  }
 ],
 "metadata": {
  "kernelspec": {
   "display_name": "Python 3",
   "language": "python",
   "name": "python3"
  },
  "language_info": {
   "codemirror_mode": {
    "name": "ipython",
    "version": 3
   },
   "file_extension": ".py",
   "mimetype": "text/x-python",
   "name": "python",
   "nbconvert_exporter": "python",
   "pygments_lexer": "ipython3",
   "version": "3.8.8"
  }
 },
 "nbformat": 4,
 "nbformat_minor": 5
}

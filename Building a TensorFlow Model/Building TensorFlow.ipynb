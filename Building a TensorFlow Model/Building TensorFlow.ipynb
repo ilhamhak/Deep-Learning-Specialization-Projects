{
 "cells": [
  {
   "cell_type": "markdown",
   "id": "69179ac5",
   "metadata": {},
   "source": [
    "# Building a TensorFlow Model"
   ]
  },
  {
   "cell_type": "markdown",
   "id": "a30fd4ef",
   "metadata": {},
   "source": [
    "#### Packages"
   ]
  },
  {
   "cell_type": "code",
   "execution_count": 1,
   "id": "f5b6fe0a",
   "metadata": {},
   "outputs": [],
   "source": [
    "import h5py\n",
    "import numpy as np\n",
    "import tensorflow as tf\n",
    "import matplotlib.pyplot as plt\n",
    "from tensorflow.python.framework.ops import EagerTensor\n",
    "from tensorflow.python.ops.resource_variable_ops import ResourceVariable\n",
    "import time"
   ]
  },
  {
   "cell_type": "markdown",
   "id": "c24d1f7e",
   "metadata": {},
   "source": [
    "#### Version Check"
   ]
  },
  {
   "cell_type": "code",
   "execution_count": 2,
   "id": "b92cc3ac",
   "metadata": {},
   "outputs": [
    {
     "data": {
      "text/plain": [
       "'2.6.2'"
      ]
     },
     "execution_count": 2,
     "metadata": {},
     "output_type": "execute_result"
    }
   ],
   "source": [
    "tf.__version__"
   ]
  },
  {
   "cell_type": "markdown",
   "id": "fe664b91",
   "metadata": {},
   "source": [
    "#### Train & Test Datasets"
   ]
  },
  {
   "cell_type": "code",
   "execution_count": 3,
   "id": "f61497e2",
   "metadata": {},
   "outputs": [],
   "source": [
    "train_dataset = h5py.File('datasets/train_signs.h5', \"r\")\n",
    "test_dataset = h5py.File('datasets/test_signs.h5', \"r\")"
   ]
  },
  {
   "cell_type": "code",
   "execution_count": 4,
   "id": "3ef1a311",
   "metadata": {},
   "outputs": [
    {
     "data": {
      "text/plain": [
       "<HDF5 dataset \"train_set_x\": shape (1080, 64, 64, 3), type \"|u1\">"
      ]
     },
     "execution_count": 4,
     "metadata": {},
     "output_type": "execute_result"
    }
   ],
   "source": [
    "train_dataset['train_set_x']"
   ]
  },
  {
   "cell_type": "code",
   "execution_count": 5,
   "id": "2499b7b0",
   "metadata": {},
   "outputs": [],
   "source": [
    "# tf.data.Dataset.from_tensor_slices( list_or_numpy_array ) creates TensorFlow Datasets\n",
    "x_train = tf.data.Dataset.from_tensor_slices(train_dataset['train_set_x'])\n",
    "y_train = tf.data.Dataset.from_tensor_slices(train_dataset['train_set_y'])\n",
    "\n",
    "x_test = tf.data.Dataset.from_tensor_slices(test_dataset['test_set_x'])\n",
    "y_test = tf.data.Dataset.from_tensor_slices(test_dataset['test_set_y'])"
   ]
  },
  {
   "cell_type": "code",
   "execution_count": 6,
   "id": "aa2593aa",
   "metadata": {},
   "outputs": [
    {
     "data": {
      "text/plain": [
       "tensorflow.python.data.ops.dataset_ops.TensorSliceDataset"
      ]
     },
     "execution_count": 6,
     "metadata": {},
     "output_type": "execute_result"
    }
   ],
   "source": [
    "type(x_train)"
   ]
  },
  {
   "cell_type": "code",
   "execution_count": 7,
   "id": "181de361",
   "metadata": {},
   "outputs": [
    {
     "name": "stdout",
     "output_type": "stream",
     "text": [
      "TensorSpec(shape=(64, 64, 3), dtype=tf.uint8, name=None)\n"
     ]
    }
   ],
   "source": [
    "print(x_train.element_spec)"
   ]
  },
  {
   "cell_type": "code",
   "execution_count": 8,
   "id": "ae9b0ca4",
   "metadata": {},
   "outputs": [
    {
     "name": "stdout",
     "output_type": "stream",
     "text": [
      "tf.Tensor(\n",
      "[[[227 220 214]\n",
      "  [227 221 215]\n",
      "  [227 222 215]\n",
      "  ...\n",
      "  [232 230 224]\n",
      "  [231 229 222]\n",
      "  [230 229 221]]\n",
      "\n",
      " [[227 221 214]\n",
      "  [227 221 215]\n",
      "  [228 221 215]\n",
      "  ...\n",
      "  [232 230 224]\n",
      "  [231 229 222]\n",
      "  [231 229 221]]\n",
      "\n",
      " [[227 221 214]\n",
      "  [227 221 214]\n",
      "  [227 221 215]\n",
      "  ...\n",
      "  [232 230 224]\n",
      "  [231 229 223]\n",
      "  [230 229 221]]\n",
      "\n",
      " ...\n",
      "\n",
      " [[119  81  51]\n",
      "  [124  85  55]\n",
      "  [127  87  58]\n",
      "  ...\n",
      "  [210 211 211]\n",
      "  [211 212 210]\n",
      "  [210 211 210]]\n",
      "\n",
      " [[119  79  51]\n",
      "  [124  84  55]\n",
      "  [126  85  56]\n",
      "  ...\n",
      "  [210 211 210]\n",
      "  [210 211 210]\n",
      "  [209 210 209]]\n",
      "\n",
      " [[119  81  51]\n",
      "  [123  83  55]\n",
      "  [122  82  54]\n",
      "  ...\n",
      "  [209 210 210]\n",
      "  [209 210 209]\n",
      "  [208 209 209]]], shape=(64, 64, 3), dtype=uint8)\n"
     ]
    }
   ],
   "source": [
    "print(next(iter(x_train)))"
   ]
  },
  {
   "cell_type": "markdown",
   "id": "e41ea5e1",
   "metadata": {},
   "source": [
    "#### Normalize"
   ]
  },
  {
   "cell_type": "markdown",
   "id": "59b01d63",
   "metadata": {},
   "source": [
    "You need to pass the function as an argument of \"map\" to transform a TensorFlow dataset"
   ]
  },
  {
   "cell_type": "code",
   "execution_count": 10,
   "id": "6ebab87c",
   "metadata": {},
   "outputs": [],
   "source": [
    "def normalize(image):\n",
    "    \"\"\"\n",
    "    Transform an image into a tensor of shape (64 * 64 * 3, 1)\n",
    "    and normalize its components.\n",
    "    \n",
    "    Arguments\n",
    "    image - Tensor.\n",
    "    \n",
    "    Returns: \n",
    "    result -- Transformed tensor \n",
    "    \"\"\"\n",
    "    image = tf.cast(image, tf.float32) / 256.0\n",
    "    image = tf.reshape(image, [-1,1])\n",
    "    return image"
   ]
  },
  {
   "cell_type": "code",
   "execution_count": 11,
   "id": "fb817293",
   "metadata": {},
   "outputs": [],
   "source": [
    "new_train = x_train.map(normalize)\n",
    "new_test = x_test.map(normalize)"
   ]
  },
  {
   "cell_type": "code",
   "execution_count": 12,
   "id": "d2c906fe",
   "metadata": {},
   "outputs": [
    {
     "data": {
      "text/plain": [
       "TensorSpec(shape=(12288, 1), dtype=tf.float32, name=None)"
      ]
     },
     "execution_count": 12,
     "metadata": {},
     "output_type": "execute_result"
    }
   ],
   "source": [
    "new_train.element_spec"
   ]
  },
  {
   "cell_type": "code",
   "execution_count": 13,
   "id": "7438d1ec",
   "metadata": {},
   "outputs": [
    {
     "name": "stdout",
     "output_type": "stream",
     "text": [
      "tf.Tensor(\n",
      "[[0.88671875]\n",
      " [0.859375  ]\n",
      " [0.8359375 ]\n",
      " ...\n",
      " [0.8125    ]\n",
      " [0.81640625]\n",
      " [0.81640625]], shape=(12288, 1), dtype=float32)\n"
     ]
    }
   ],
   "source": [
    "print(next(iter(new_train)))"
   ]
  },
  {
   "cell_type": "markdown",
   "id": "57f8b166",
   "metadata": {},
   "source": [
    "#### Linear Function"
   ]
  },
  {
   "cell_type": "code",
   "execution_count": 14,
   "id": "8fbf3a27",
   "metadata": {},
   "outputs": [],
   "source": [
    "def linear_function():\n",
    "    \"\"\"\n",
    "    Implements a linear function: \n",
    "            Initializes X to be a random tensor of shape (3,1)\n",
    "            Initializes W to be a random tensor of shape (4,3)\n",
    "            Initializes b to be a random tensor of shape (4,1)\n",
    "    Returns: \n",
    "    result -- Y = WX + b \n",
    "    \"\"\"\n",
    "\n",
    "    np.random.seed(1)\n",
    "    \n",
    "    \"\"\"\n",
    "    Note, to ensure that the \"random\" numbers generated match the expected results,\n",
    "    please create the variables in the order given in the starting code below.\n",
    "    (Do not re-arrange the order).\n",
    "    \"\"\"\n",
    "    X = tf.constant(np.random.randn(3,1))\n",
    "    W = tf.constant(np.random.randn(4,3))\n",
    "    b = tf.constant(np.random.randn(4,1))\n",
    "    Y = tf.add(tf.matmul(W,X),b)\n",
    "\n",
    "    return Y"
   ]
  },
  {
   "cell_type": "code",
   "execution_count": 15,
   "id": "02a192b1",
   "metadata": {},
   "outputs": [
    {
     "name": "stdout",
     "output_type": "stream",
     "text": [
      "tf.Tensor(\n",
      "[[-2.15657382]\n",
      " [ 2.95891446]\n",
      " [-1.08926781]\n",
      " [-0.84538042]], shape=(4, 1), dtype=float64)\n",
      "\u001b[92mAll test passed\n"
     ]
    }
   ],
   "source": [
    "result = linear_function()\n",
    "print(result)"
   ]
  },
  {
   "cell_type": "markdown",
   "id": "2ea9fbd1",
   "metadata": {},
   "source": [
    "#### Sigmoid"
   ]
  },
  {
   "cell_type": "code",
   "execution_count": 16,
   "id": "e267659c",
   "metadata": {},
   "outputs": [],
   "source": [
    "def sigmoid(z):\n",
    "    \n",
    "    \"\"\"\n",
    "    Computes the sigmoid of z\n",
    "    \n",
    "    Arguments:\n",
    "    z -- input value, scalar or vector\n",
    "    \n",
    "    Returns: \n",
    "    a -- (tf.float32) the sigmoid of z\n",
    "    \"\"\"\n",
    "    # tf.keras.activations.sigmoid requires float16, float32, float64, complex64, or complex128.\n",
    "    z = tf.cast(z,tf.float32)\n",
    "    a = tf.keras.activations.sigmoid(z)\n",
    "\n",
    "    return a"
   ]
  },
  {
   "cell_type": "code",
   "execution_count": 17,
   "id": "56438297",
   "metadata": {},
   "outputs": [
    {
     "name": "stdout",
     "output_type": "stream",
     "text": [
      "type: <class 'tensorflow.python.framework.ops.EagerTensor'>\n",
      "dtype: <dtype: 'float32'>\n",
      "sigmoid(-1) = tf.Tensor(0.26894143, shape=(), dtype=float32)\n",
      "sigmoid(0) = tf.Tensor(0.5, shape=(), dtype=float32)\n",
      "sigmoid(12) = tf.Tensor(0.9999939, shape=(), dtype=float32)\n",
      "\u001b[92mAll test passed\n"
     ]
    }
   ],
   "source": [
    "result = sigmoid(-1)\n",
    "print (\"type: \" + str(type(result)))\n",
    "print (\"dtype: \" + str(result.dtype))\n",
    "print (\"sigmoid(-1) = \" + str(result))\n",
    "print (\"sigmoid(0) = \" + str(sigmoid(0.0)))\n",
    "print (\"sigmoid(12) = \" + str(sigmoid(12)))"
   ]
  },
  {
   "cell_type": "markdown",
   "id": "827bacae",
   "metadata": {},
   "source": [
    "#### One Hot Encoding"
   ]
  },
  {
   "attachments": {
    "image.png": {
     "image/png": "[encoded data removed]"
    }
   },
   "cell_type": "markdown",
   "id": "9579632b",
   "metadata": {},
   "source": [
    "![image.png](attachment:image.png)"
   ]
  },
  {
   "cell_type": "code",
   "execution_count": 18,
   "id": "10e1cfe1",
   "metadata": {},
   "outputs": [],
   "source": [
    "def one_hot_matrix(label, depth=6):\n",
    "    \"\"\"\n",
    "    Computes the one hot encoding for a single label\n",
    "    \n",
    "    Arguments:\n",
    "        label --  (int) Categorical labels\n",
    "        depth --  (int) Number of different classes that label can take\n",
    "    \n",
    "    Returns:\n",
    "         one_hot -- tf.Tensor A single-column matrix with the one hot encoding.\n",
    "    \"\"\"\n",
    "    one_hot = tf.one_hot(label,depth,axis=0)\n",
    "    one_hot = tf.reshape(one_hot,[depth,1])\n",
    "    \n",
    "    return one_hot"
   ]
  },
  {
   "cell_type": "code",
   "execution_count": 19,
   "id": "27a4e9ee",
   "metadata": {},
   "outputs": [
    {
     "name": "stdout",
     "output_type": "stream",
     "text": [
      "tf.Tensor(\n",
      "[[0.]\n",
      " [1.]\n",
      " [0.]\n",
      " [0.]], shape=(4, 1), dtype=float32)\n",
      "\u001b[92mAll test passed\n"
     ]
    }
   ],
   "source": [
    "def one_hot_matrix_test(target):\n",
    "    label = tf.constant(1)\n",
    "    depth = 4\n",
    "    result = target(label, depth)\n",
    "    print(result)\n",
    "    assert result.shape[0] == depth, \"Use the parameter depth\"\n",
    "    assert result.shape[1] == 1, f\"Reshape to have only 1 column\"\n",
    "    assert np.allclose(result,  [[0.], [1.], [0.], [0.]] ), \"Wrong output. Use tf.one_hot\"\n",
    "    result = target(3, depth)\n",
    "    assert np.allclose(result, [[0.], [0.], [0.], [1.]] ), \"Wrong output. Use tf.one_hot\"\n",
    "    \n",
    "    print(\"\\033[92mAll test passed\")\n",
    "\n",
    "one_hot_matrix_test(one_hot_matrix)"
   ]
  },
  {
   "cell_type": "code",
   "execution_count": 20,
   "id": "26f62857",
   "metadata": {},
   "outputs": [],
   "source": [
    "new_y_test = y_test.map(one_hot_matrix)\n",
    "new_y_train = y_train.map(one_hot_matrix)"
   ]
  },
  {
   "cell_type": "code",
   "execution_count": 21,
   "id": "c419fa7b",
   "metadata": {},
   "outputs": [
    {
     "name": "stdout",
     "output_type": "stream",
     "text": [
      "tf.Tensor(\n",
      "[[1.]\n",
      " [0.]\n",
      " [0.]\n",
      " [0.]\n",
      " [0.]\n",
      " [0.]], shape=(6, 1), dtype=float32)\n"
     ]
    }
   ],
   "source": [
    "print(next(iter(new_y_test)))"
   ]
  },
  {
   "cell_type": "markdown",
   "id": "09774ba5",
   "metadata": {},
   "source": [
    "#### Initialize Parameters"
   ]
  },
  {
   "cell_type": "code",
   "execution_count": 22,
   "id": "3bee36fa",
   "metadata": {},
   "outputs": [],
   "source": [
    "def initialize_parameters():\n",
    "    \"\"\"\n",
    "    Initializes parameters to build a neural network with TensorFlow. The shapes are:\n",
    "                        W1 : [25, 12288]\n",
    "                        b1 : [25, 1]\n",
    "                        W2 : [12, 25]\n",
    "                        b2 : [12, 1]\n",
    "                        W3 : [6, 12]\n",
    "                        b3 : [6, 1]\n",
    "    \n",
    "    Returns:\n",
    "    parameters -- a dictionary of tensors containing W1, b1, W2, b2, W3, b3\n",
    "    \"\"\"                  \n",
    "    initializer = tf.keras.initializers.GlorotNormal(seed=1)   \n",
    "    W1 = tf.Variable(initializer(shape=(25, 12288)))\n",
    "    b1 = tf.Variable(initializer(shape=(25, 1)))\n",
    "    W2 = tf.Variable(initializer(shape=(12, 25)))\n",
    "    b2 = tf.Variable(initializer(shape=(12, 1)))\n",
    "    W3 = tf.Variable(initializer(shape=(6,12)))\n",
    "    b3 = tf.Variable(initializer(shape=(6, 1)))\n",
    "\n",
    "    parameters = {\"W1\": W1,\n",
    "                  \"b1\": b1,\n",
    "                  \"W2\": W2,\n",
    "                  \"b2\": b2,\n",
    "                  \"W3\": W3,\n",
    "                  \"b3\": b3}\n",
    "    \n",
    "    return parameters"
   ]
  },
  {
   "cell_type": "code",
   "execution_count": 23,
   "id": "6db0ff9e",
   "metadata": {},
   "outputs": [
    {
     "name": "stdout",
     "output_type": "stream",
     "text": [
      "W1 shape: (25, 12288)\n",
      "b1 shape: (25, 1)\n",
      "W2 shape: (12, 25)\n",
      "b2 shape: (12, 1)\n",
      "W3 shape: (6, 12)\n",
      "b3 shape: (6, 1)\n",
      "\u001b[92mAll test passed\n"
     ]
    }
   ],
   "source": [
    "def initialize_parameters_test(target):\n",
    "    parameters = target()\n",
    "\n",
    "    values = {\"W1\": (25, 12288),\n",
    "              \"b1\": (25, 1),\n",
    "              \"W2\": (12, 25),\n",
    "              \"b2\": (12, 1),\n",
    "              \"W3\": (6, 12),\n",
    "              \"b3\": (6, 1)}\n",
    "\n",
    "    for key in parameters:\n",
    "        print(f\"{key} shape: {tuple(parameters[key].shape)}\")\n",
    "        assert type(parameters[key]) == ResourceVariable, \"All parameter must be created using tf.Variable\"\n",
    "        assert tuple(parameters[key].shape) == values[key], f\"{key}: wrong shape\"\n",
    "        assert np.abs(np.mean(parameters[key].numpy())) < 0.5,  f\"{key}: Use the GlorotNormal initializer\"\n",
    "        assert np.std(parameters[key].numpy()) > 0 and np.std(parameters[key].numpy()) < 1, f\"{key}: Use the GlorotNormal initializer\"\n",
    "\n",
    "    print(\"\\033[92mAll test passed\")\n",
    "    \n",
    "initialize_parameters_test(initialize_parameters)"
   ]
  },
  {
   "cell_type": "code",
   "execution_count": 24,
   "id": "6343ec90",
   "metadata": {},
   "outputs": [],
   "source": [
    "parameters = initialize_parameters()"
   ]
  },
  {
   "cell_type": "markdown",
   "id": "ae7021ed",
   "metadata": {},
   "source": [
    "#### Forward Propagation"
   ]
  },
  {
   "cell_type": "code",
   "execution_count": 25,
   "id": "1261f393",
   "metadata": {},
   "outputs": [],
   "source": [
    "@tf.function\n",
    "def forward_propagation(X, parameters):\n",
    "    \"\"\"\n",
    "    Implements the forward propagation for the model: LINEAR -> RELU -> LINEAR -> RELU -> LINEAR\n",
    "    \n",
    "    Arguments:\n",
    "    X -- input dataset placeholder, of shape (input size, number of examples)\n",
    "    parameters -- python dictionary containing your parameters \"W1\", \"b1\", \"W2\", \"b2\", \"W3\", \"b3\"\n",
    "                  the shapes are given in initialize_parameters\n",
    "\n",
    "    Returns:\n",
    "    Z3 -- the output of the last LINEAR unit\n",
    "    \"\"\"\n",
    "    # Retrieve the parameters from the dictionary \"parameters\" \n",
    "    W1 = parameters['W1']\n",
    "    b1 = parameters['b1']\n",
    "    W2 = parameters['W2']\n",
    "    b2 = parameters['b2']\n",
    "    W3 = parameters['W3']\n",
    "    b3 = parameters['b3']\n",
    "    \n",
    "                                       # Numpy Equivalents:\n",
    "    Z1 = tf.add(tf.matmul(W1,X),b1)    # Z1 = np.dot(W1, X) + b1\n",
    "    A1 = tf.keras.activations.relu(Z1) # A1 = relu(Z1)\n",
    "    Z2 = tf.add(tf.matmul(W2,A1),b2)   # Z2 = np.dot(W2, A1) + b2\n",
    "    A2 = tf.keras.activations.relu(Z2) # A2 = relu(Z2)\n",
    "    Z3 = tf.add(tf.matmul(W3,A2),b3)   # Z3 = np.dot(W3, A2) + b3\n",
    "    \n",
    "    return Z3"
   ]
  },
  {
   "cell_type": "code",
   "execution_count": 26,
   "id": "3972ea7b",
   "metadata": {},
   "outputs": [
    {
     "name": "stdout",
     "output_type": "stream",
     "text": [
      "tf.Tensor(\n",
      "[[-0.13082105]\n",
      " [ 0.21228725]\n",
      " [ 0.7050022 ]\n",
      " [-1.1224037 ]\n",
      " [-0.20386747]\n",
      " [ 0.95262206]], shape=(6, 1), dtype=float32)\n",
      "\u001b[92mAll test passed\n"
     ]
    }
   ],
   "source": [
    "def forward_propagation_test(target, examples):\n",
    "    for batch in examples:\n",
    "        forward_pass = target(batch, parameters)\n",
    "        assert type(forward_pass) == EagerTensor, \"Your output is not a tensor\"\n",
    "        assert forward_pass.shape == (6, 1), \"Last layer must use W3 and b3\"\n",
    "        assert np.any(forward_pass < 0), \"Don't use a ReLu layer at end of your network\"\n",
    "        assert np.allclose(forward_pass, \n",
    "                           [[-0.13082162],\n",
    "                           [ 0.21228778],\n",
    "                           [ 0.7050022 ],\n",
    "                           [-1.1224034 ],\n",
    "                           [-0.20386729],\n",
    "                           [ 0.9526217 ]]), \"Output does not match\"\n",
    "        print(forward_pass)\n",
    "        break\n",
    "    \n",
    "\n",
    "    print(\"\\033[92mAll test passed\")\n",
    "\n",
    "forward_propagation_test(forward_propagation, new_train)"
   ]
  },
  {
   "cell_type": "markdown",
   "id": "92a4f007",
   "metadata": {},
   "source": [
    "#### Compute Cost"
   ]
  },
  {
   "cell_type": "code",
   "execution_count": 27,
   "id": "45609a92",
   "metadata": {},
   "outputs": [],
   "source": [
    "@tf.function\n",
    "def compute_cost(logits, labels):\n",
    "    \"\"\"\n",
    "    Computes the cost\n",
    "    \n",
    "    Arguments:\n",
    "    logits -- output of forward propagation (output of the last LINEAR unit), of shape (6, number of examples)\n",
    "    labels -- \"true\" labels vector, same shape as Z3\n",
    "    \n",
    "    Returns:\n",
    "    cost - Tensor of the cost function\n",
    "    \"\"\"\n",
    "    cost = tf.reduce_mean(tf.keras.losses.binary_crossentropy(labels,logits,from_logits=True))\n",
    "\n",
    "    return cost"
   ]
  },
  {
   "cell_type": "code",
   "execution_count": 28,
   "id": "1a0a1129",
   "metadata": {},
   "outputs": [
    {
     "name": "stdout",
     "output_type": "stream",
     "text": [
      "tf.Tensor(0.8419182681095858, shape=(), dtype=float64)\n",
      "\u001b[92mAll test passed\n"
     ]
    }
   ],
   "source": [
    "def compute_cost_test(target):\n",
    "    labels = np.array([[0., 1.], [0., 0.], [1., 0.]])\n",
    "    logits = np.array([[0.6, 0.4], [0.4, 0.6], [0.4, 0.6]])\n",
    "    result = compute_cost(logits, labels)\n",
    "    print(result)\n",
    "    assert(type(result) == EagerTensor), \"Use the TensorFlow API\"\n",
    "    assert (np.abs(result - (0.7752516 +  0.9752516 + 0.7752516) / 3.0) < 1e-7), \"Test does not match. Did you get the mean of your cost functions?\"\n",
    "\n",
    "    print(\"\\033[92mAll test passed\")\n",
    "\n",
    "compute_cost_test(compute_cost)"
   ]
  },
  {
   "cell_type": "markdown",
   "id": "b406d61d",
   "metadata": {},
   "source": [
    "#### Model"
   ]
  },
  {
   "cell_type": "code",
   "execution_count": 29,
   "id": "f3cbe422",
   "metadata": {},
   "outputs": [],
   "source": [
    "def model(X_train, Y_train, X_test, Y_test, learning_rate = 0.0001,\n",
    "          num_epochs = 1500, minibatch_size = 32, print_cost = True):\n",
    "    \"\"\"\n",
    "    Implements a three-layer tensorflow neural network: LINEAR->RELU->LINEAR->RELU->LINEAR->SOFTMAX.\n",
    "    \n",
    "    Arguments:\n",
    "    X_train -- training set, of shape (input size = 12288, number of training examples = 1080)\n",
    "    Y_train -- test set, of shape (output size = 6, number of training examples = 1080)\n",
    "    X_test -- training set, of shape (input size = 12288, number of training examples = 120)\n",
    "    Y_test -- test set, of shape (output size = 6, number of test examples = 120)\n",
    "    learning_rate -- learning rate of the optimization\n",
    "    num_epochs -- number of epochs of the optimization loop\n",
    "    minibatch_size -- size of a minibatch\n",
    "    print_cost -- True to print the cost every 100 epochs\n",
    "    \n",
    "    Returns:\n",
    "    parameters -- parameters learnt by the model. They can then be used to predict.\n",
    "    \"\"\"\n",
    "    \n",
    "    costs = []                                        # To keep track of the cost\n",
    "    \n",
    "    parameters = initialize_parameters()\n",
    "\n",
    "    W1 = parameters['W1']\n",
    "    b1 = parameters['b1']\n",
    "    W2 = parameters['W2']\n",
    "    b2 = parameters['b2']\n",
    "    W3 = parameters['W3']\n",
    "    b3 = parameters['b3']\n",
    "\n",
    "    optimizer = tf.keras.optimizers.SGD(learning_rate)\n",
    "\n",
    "    X_train = X_train.batch(minibatch_size, drop_remainder=True).prefetch(8)# <<< extra step    \n",
    "    Y_train = Y_train.batch(minibatch_size, drop_remainder=True).prefetch(8) # loads memory faster \n",
    "\n",
    "    # Do the training loop\n",
    "    for epoch in range(num_epochs):\n",
    "\n",
    "        epoch_cost = 0.\n",
    "        \n",
    "        for (minibatch_X, minibatch_Y) in zip(X_train, Y_train):\n",
    "            # Select a minibatch\n",
    "            with tf.GradientTape() as tape:\n",
    "                # 1. predict\n",
    "                Z3 = forward_propagation(minibatch_X, parameters)\n",
    "                # 2. loss\n",
    "                minibatch_cost = compute_cost(Z3, minibatch_Y)\n",
    "                \n",
    "            trainable_variables = [W1, b1, W2, b2, W3, b3]\n",
    "            grads = tape.gradient(minibatch_cost, trainable_variables)\n",
    "            optimizer.apply_gradients(zip(grads, trainable_variables))\n",
    "            epoch_cost += minibatch_cost / minibatch_size\n",
    "\n",
    "        # Print the cost every epoch\n",
    "        if print_cost == True and epoch % 10 == 0:\n",
    "            print (\"Cost after epoch %i: %f\" % (epoch, epoch_cost))\n",
    "        if print_cost == True and epoch % 5 == 0:\n",
    "            costs.append(epoch_cost)\n",
    "\n",
    "    # Plot the cost\n",
    "    plt.plot(np.squeeze(costs))\n",
    "    plt.ylabel('cost')\n",
    "    plt.xlabel('iterations (per fives)')\n",
    "    plt.title(\"Learning rate =\" + str(learning_rate))\n",
    "    plt.show()\n",
    "\n",
    "    # Save the parameters in a variable\n",
    "    print (\"Parameters have been trained!\")\n",
    "\n",
    "    return parameters"
   ]
  },
  {
   "cell_type": "code",
   "execution_count": 30,
   "id": "414bf00c",
   "metadata": {},
   "outputs": [
    {
     "name": "stdout",
     "output_type": "stream",
     "text": [
      "Cost after epoch 0: 0.742591\n",
      "Cost after epoch 10: 0.614557\n",
      "Cost after epoch 20: 0.598900\n",
      "Cost after epoch 30: 0.588907\n",
      "Cost after epoch 40: 0.579898\n",
      "Cost after epoch 50: 0.570628\n",
      "Cost after epoch 60: 0.560898\n",
      "Cost after epoch 70: 0.550808\n",
      "Cost after epoch 80: 0.540494\n",
      "Cost after epoch 90: 0.488080\n",
      "Cost after epoch 100: 0.478259\n",
      "Cost after epoch 110: 0.472858\n",
      "Cost after epoch 120: 0.468990\n",
      "Cost after epoch 130: 0.466013\n",
      "Cost after epoch 140: 0.463659\n",
      "Cost after epoch 150: 0.461677\n",
      "Cost after epoch 160: 0.459950\n",
      "Cost after epoch 170: 0.458390\n",
      "Cost after epoch 180: 0.456969\n",
      "Cost after epoch 190: 0.455646\n"
     ]
    },
    {
     "data": {
      "image/png": "[encoded data removed]",
      "text/plain": [
       "<Figure size 432x288 with 1 Axes>"
      ]
     },
     "metadata": {},
     "output_type": "display_data"
    },
    {
     "name": "stdout",
     "output_type": "stream",
     "text": [
      "Parameters have been trained!\n"
     ]
    },
    {
     "data": {
      "text/plain": [
       "{'W1': <tf.Variable 'Variable:0' shape=(25, 12288) dtype=float32, numpy=\n",
       " array([[ 0.00159519, -0.00737921,  0.00893288, ..., -0.01227796,\n",
       "          0.01642204,  0.00506491],\n",
       "        [ 0.02264025,  0.0067227 ,  0.00795862, ...,  0.00284724,\n",
       "          0.01910819,  0.00122853],\n",
       "        [-0.00173595, -0.00872464, -0.01410454, ..., -0.00733839,\n",
       "          0.02050855, -0.02683005],\n",
       "        ...,\n",
       "        [-0.00126929,  0.01729332,  0.02082342, ...,  0.01709594,\n",
       "          0.00429358, -0.00733263],\n",
       "        [ 0.00268254,  0.00410491,  0.009367  , ...,  0.01222265,\n",
       "         -0.02717625,  0.01498343],\n",
       "        [-0.00145541,  0.02459595,  0.00339064, ..., -0.02478788,\n",
       "          0.02716016, -0.00306428]], dtype=float32)>,\n",
       " 'b1': <tf.Variable 'Variable:0' shape=(25, 1) dtype=float32, numpy=\n",
       " array([[ 0.03964256],\n",
       "        [-0.15545043],\n",
       "        [ 0.19885878],\n",
       "        [-0.24874453],\n",
       "        [-0.28676695],\n",
       "        [-0.126046  ],\n",
       "        [-0.01213089],\n",
       "        [ 0.14784032],\n",
       "        [-0.00413168],\n",
       "        [-0.44089738],\n",
       "        [ 0.54054147],\n",
       "        [-0.4345032 ],\n",
       "        [ 0.1176388 ],\n",
       "        [ 0.21523887],\n",
       "        [-0.0677261 ],\n",
       "        [-0.16429327],\n",
       "        [-0.05259652],\n",
       "        [-0.18479483],\n",
       "        [-0.0028025 ],\n",
       "        [-0.06777475],\n",
       "        [ 0.09226809],\n",
       "        [ 0.02067652],\n",
       "        [-0.05682073],\n",
       "        [ 0.37065914],\n",
       "        [ 0.21586621]], dtype=float32)>,\n",
       " 'W2': <tf.Variable 'Variable:0' shape=(12, 25) dtype=float32, numpy=\n",
       " array([[ 0.03270398, -0.13031   ,  0.16566682, -0.20850259, -0.2404858 ,\n",
       "         -0.10598166, -0.01016674,  0.12317107, -0.00411659, -0.3709333 ,\n",
       "          0.45312327, -0.36423257,  0.09766971,  0.18042907, -0.05753208,\n",
       "         -0.13796303, -0.04518652, -0.15597364, -0.00236228, -0.05681378,\n",
       "          0.07734591,  0.01733258, -0.04763132,  0.31054643,  0.18095495],\n",
       "        [ 0.2750062 ,  0.0652916 ,  0.1927711 ,  0.00808901, -0.35061064,\n",
       "         -0.04379582,  0.00529778,  0.14074473, -0.22700803, -0.08254968,\n",
       "         -0.1043721 , -0.27877635, -0.22737724, -0.15467171, -0.30434528,\n",
       "          0.42841318,  0.04013073,  0.14082408,  0.40803456,  0.19127996,\n",
       "         -0.08289494,  0.19833343, -0.18854785,  0.11045299, -0.10293514],\n",
       "        [ 0.07370523,  0.12879197, -0.38048756, -0.1428371 , -0.16866723,\n",
       "         -0.12560503,  0.08047903, -0.14222342, -0.32914332,  0.11487026,\n",
       "          0.21897353,  0.1428981 ,  0.41085425, -0.02966296, -0.1148764 ,\n",
       "          0.2835233 ,  0.2571576 , -0.12365925,  0.14695081, -0.39992067,\n",
       "         -0.11544652, -0.11918075, -0.5031594 , -0.1664705 , -0.0463655 ],\n",
       "        [-0.11886342,  0.19529893, -0.13205238, -0.46206364,  0.07806137,\n",
       "         -0.36992037, -0.06379859,  0.3715821 ,  0.07555945,  0.5198775 ,\n",
       "         -0.01714185,  0.35476214,  0.09361257,  0.17954443,  0.00514404,\n",
       "          0.04280786,  0.10517918,  0.03766902, -0.23309678, -0.23678231,\n",
       "         -0.07444265, -0.30713868, -0.11694647,  0.32925946, -0.09511968],\n",
       "        [ 0.15940394,  0.0393942 ,  0.47869268,  0.2265753 ,  0.03724993,\n",
       "         -0.51921755, -0.01731516, -0.31578055, -0.21672143,  0.04122631,\n",
       "          0.04947509, -0.29094276, -0.03152778,  0.47902155,  0.31676632,\n",
       "          0.04739069,  0.07770586,  0.3139435 , -0.02500664,  0.10048122,\n",
       "         -0.05332499, -0.34107792, -0.13928485,  0.12402058, -0.41300818],\n",
       "        [-0.14994617,  0.03965309, -0.47870108, -0.07975382,  0.0975504 ,\n",
       "         -0.0023286 , -0.26367772, -0.23967385,  0.24946603,  0.22969486,\n",
       "         -0.3077363 ,  0.1017215 ,  0.03053084,  0.26468748, -0.518585  ,\n",
       "         -0.0866983 ,  0.03128938,  0.28505072,  0.20724712, -0.14461054,\n",
       "         -0.09631125,  0.2553377 ,  0.0313108 ,  0.2868459 ,  0.02228327],\n",
       "        [-0.20329641, -0.2922766 , -0.03024991,  0.00603078,  0.34428513,\n",
       "          0.14932795, -0.42723438,  0.07875892,  0.06157893, -0.19437575,\n",
       "          0.03054013, -0.20949648,  0.2890019 ,  0.03168807,  0.18291236,\n",
       "         -0.17629069, -0.2162296 ,  0.02522451, -0.17976451,  0.20999093,\n",
       "          0.13074148,  0.12900151, -0.29620144,  0.39828372,  0.35581756],\n",
       "        [-0.08132942,  0.0508789 ,  0.03970909, -0.06884057, -0.07758211,\n",
       "          0.21220328,  0.16169944, -0.05766107, -0.04837854, -0.23052695,\n",
       "          0.2551639 , -0.2933403 , -0.16104451, -0.11232601, -0.1305835 ,\n",
       "          0.0502181 ,  0.18621859, -0.07786819,  0.10281896, -0.06372993,\n",
       "          0.41251048, -0.01803587,  0.04746069,  0.27628538, -0.21901166],\n",
       "        [ 0.2853903 ,  0.20629272, -0.38372254,  0.26297212,  0.23504956,\n",
       "          0.18105376,  0.25501856, -0.19115049,  0.35580465,  0.00106065,\n",
       "         -0.3325248 , -0.09722907, -0.00984842,  0.22310142, -0.22939739,\n",
       "         -0.02731852,  0.18572648, -0.00868658,  0.47467598,  0.00131025,\n",
       "          0.3148377 , -0.22662118,  0.12927507,  0.04265233, -0.45121887],\n",
       "        [-0.23054187, -0.22334962, -0.18913192,  0.15417175, -0.07368277,\n",
       "         -0.0554374 ,  0.12214173,  0.3880139 , -0.01242276,  0.11768965,\n",
       "          0.26777858, -0.06251994, -0.12100054, -0.12495217, -0.03189994,\n",
       "         -0.50085783, -0.09560107, -0.2402923 ,  0.07087833,  0.03642716,\n",
       "         -0.00494978, -0.36984688,  0.00878784,  0.24595837, -0.1323934 ],\n",
       "        [ 0.319129  ,  0.02266271, -0.06669904, -0.33996752,  0.36436006,\n",
       "         -0.29865563, -0.05117004, -0.372436  ,  0.2735965 ,  0.20692459,\n",
       "          0.0217116 ,  0.10230298, -0.39800087,  0.02363082,  0.13089171,\n",
       "          0.33540556,  0.08214636,  0.20031916, -0.0812777 , -0.28784147,\n",
       "          0.17327178, -0.1326688 ,  0.28894275, -0.19869743, -0.03405774],\n",
       "        [ 0.18820527, -0.20398362, -0.03503662, -0.36792815, -0.22963905,\n",
       "          0.23911734, -0.04237937, -0.0165519 , -0.05906161,  0.16423957,\n",
       "         -0.32017127,  0.15379827,  0.14842768, -0.24647985, -0.0883374 ,\n",
       "          0.13306327,  0.41101077,  0.3626326 ,  0.33551377,  0.05405051,\n",
       "          0.21186371,  0.0197499 ,  0.45979315,  0.04402982,  0.36662805]],\n",
       "       dtype=float32)>,\n",
       " 'b2': <tf.Variable 'Variable:0' shape=(12, 1) dtype=float32, numpy=\n",
       " array([[ 0.05586328],\n",
       "        [-0.22080214],\n",
       "        [ 0.28016475],\n",
       "        [-0.35078064],\n",
       "        [-0.4071074 ],\n",
       "        [-0.17678487],\n",
       "        [-0.01738933],\n",
       "        [ 0.20840582],\n",
       "        [-0.00979044],\n",
       "        [-0.6255955 ],\n",
       "        [ 0.7664694 ],\n",
       "        [-0.61273086]], dtype=float32)>,\n",
       " 'W3': <tf.Variable 'Variable:0' shape=(6, 12) dtype=float32, numpy=\n",
       " array([[ 0.04761663, -0.18691438,  0.23871912, -0.29910216, -0.34813976,\n",
       "         -0.14891392, -0.01468904,  0.17718893, -0.00528853, -0.53165394,\n",
       "          0.65123314, -0.52561605],\n",
       "        [ 0.14137168,  0.25856566, -0.08242685, -0.2489592 , -0.08693509,\n",
       "         -0.23124571, -0.00362752, -0.08165746,  0.10867151,  0.02485008,\n",
       "         -0.10592934,  0.4071409 ],\n",
       "        [ 0.2588232 ,  0.39531496,  0.0926068 ,  0.19814102, -0.02673806,\n",
       "         -0.51414466, -0.06277467,  0.0073774 ,  0.20107716, -0.3234572 ,\n",
       "         -0.17166322, -0.21082886],\n",
       "        [-0.39999744, -0.3245937 , -0.22211885, -0.4464699 ,  0.6061122 ,\n",
       "          0.06233843,  0.20539553,  0.5849541 ,  0.27438024, -0.11884821,\n",
       "          0.276494  , -0.28224218],\n",
       "        [ 0.15867612, -0.14753203,  0.10717976,  0.20221813, -0.5397331 ,\n",
       "         -0.1961334 , -0.24190293, -0.17912963,  0.11742982, -0.20150405,\n",
       "         -0.457158  ,  0.17953993],\n",
       "        [ 0.313728  ,  0.2047586 ,  0.5910123 , -0.07043584, -0.17220183,\n",
       "          0.39684048,  0.37256533, -0.17371103,  0.20850326, -0.5733746 ,\n",
       "         -0.18642496, -0.19106323]], dtype=float32)>,\n",
       " 'b3': <tf.Variable 'Variable:0' shape=(6, 1) dtype=float32, numpy=\n",
       " array([[ 0.07464925],\n",
       "        [-0.3164766 ],\n",
       "        [ 0.3577814 ],\n",
       "        [-0.48544514],\n",
       "        [-0.5509944 ],\n",
       "        [-0.24964926]], dtype=float32)>}"
      ]
     },
     "execution_count": 30,
     "metadata": {},
     "output_type": "execute_result"
    }
   ],
   "source": [
    "plt.style.use(['dark_background'])\n",
    "model(new_train, new_y_train, new_test, new_y_test, num_epochs=200)"
   ]
  }
 ],
 "metadata": {
  "kernelspec": {
   "display_name": "Python 3",
   "language": "python",
   "name": "python3"
  },
  "language_info": {
   "codemirror_mode": {
    "name": "ipython",
    "version": 3
   },
   "file_extension": ".py",
   "mimetype": "text/x-python",
   "name": "python",
   "nbconvert_exporter": "python",
   "pygments_lexer": "ipython3",
   "version": "3.8.8"
  }
 },
 "nbformat": 4,
 "nbformat_minor": 5
}
